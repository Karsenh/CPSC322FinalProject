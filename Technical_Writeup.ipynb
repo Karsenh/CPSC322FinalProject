{
 "metadata": {
  "language_info": {
   "codemirror_mode": {
    "name": "ipython",
    "version": 3
   },
   "file_extension": ".py",
   "mimetype": "text/x-python",
   "name": "python",
   "nbconvert_exporter": "python",
   "pygments_lexer": "ipython3",
   "version": 3
  },
  "orig_nbformat": 2
 },
 "nbformat": 4,
 "nbformat_minor": 2,
 "cells": [
  {
   "source": [
    "# CPSC 322 Final - Tehcnical Notebook\n",
    "----------------"
   ],
   "cell_type": "markdown",
   "metadata": {}
  },
  {
   "source": [
    "## Introduction\n",
    "\n",
    "> ### Dataset Used:\n",
    ">> We used a very large (10GB) dataset provided by [Yelp](https://www.yelp.com/dataset) along with their corresponding [documentation](https://www.yelp.com/dataset/documentation/main) to identify the individual attributes, as there were a lot and many of which had unintuitive names such as 'compliment cute'. The documentation was extremely helpful.\n",
    "\n",
    "> ### Classification tasks implemented: \n",
    "\n",
    "> ### Findings:"
   ],
   "cell_type": "markdown",
   "metadata": {}
  },
  {
   "source": [
    "## Data Analysis\n",
    "\n",
    "> ### Dataset Information:\n",
    ">> Our dataset was initially too large to work with and contained a lot of uneccessary data. We started by identifying the most statistically significant attributes to test on by running a simple linear regression against 40 pair-wise attributes across all five JSON datasets from Yelp. Based on these we were able to identify the attributes from each instance which had the highest correlations. We ended up using ~15,500 business instances along with the following attributes for each, which included types ranging from integers to object arrays.\n",
    "\n",
    "\n",
    "> ### Relevant Summary Stats:\n",
    "\n",
    ">> Ultimately, the attributes we used, having been identified as being the most statistically significant from our regressions, include:\n",
    "\n",
    ">> 1. review count\n",
    "1. attributes (business)\n",
    "1. review length\n",
    "1. fans\n",
    "1. compliment plain\n",
    "1. friends\n",
    "1. useful\n",
    "\n",
    ">> We then ran a regression to test the correlation of individual attributes against each other. The strongest correlations included:\n",
    "\n",
    ">> 1. Useful (count) vs Compliment-Plain\n",
    "1. Attribute Count vs Review Length\n",
    "\n",
    ">> Moderate correlations:\n",
    "\n",
    ">> 1. Fans vs. Compliment Plain\n",
    "1. Useful vs Friends\n",
    "1. Useful vs Fans\n",
    "\n",
    "\n",
    "> ### Data Visualization\n",
    "\n",
    ">> We then applied discretization to generate frequency diagrams for each of the attributes to visualize a distribution of values by 'category' or bin values.\n",
    "\n",
    "\n",
    ">> *Review Count* - Represents the distribution of the number of reviews per business with count representing the number of instances with that review count value.\n",
    "\n",
    ">> <img src='./Images/Review-Count-Hist.PNG' width='500px'>\n",
    "\n",
    "\n",
    ">> *Review Length* - Represents the distribution of review lengths, with Count representing the number of business instances with that category (bin) of review length.\n",
    "\n",
    ">> <img src='./Images/Review-Length-Hist.PNG' width='500px'>\n",
    "\n",
    "\n",
    ">> *Attribute Counts* - Represents the distribution of the number of attributes (object in dataset) per business with Count representing the number of instances (businesses) with that number of attributes)\n",
    "\n",
    ">> <img src='./Images/Attribute-Counts.PNG' width='500px'>\n",
    "\n",
    "\n",
    ">> *Fans* - Represents the distribution of fans per business with Count representing the number of business instances with a particular category (bin)\n",
    "\n",
    ">> <img src='./Images/Fans.PNG' width='500px'>\n",
    "\n",
    "\n",
    ">> *Compliment (plain)* - Represents the distribution of the number of average compliments per business. \n",
    "\n",
    ">> <img src='./Images/Compliment-Plain.PNG' width='500px'>\n",
    "\n",
    "\n",
    ">> *Friends* - Represents the distribution of the number of friends for businesses.\n",
    "\n",
    ">> <img src='./Images/Friends.PNG' width='500px'>\n",
    "\n",
    "\n",
    ">> *Useful* - Represents the distribution of the number of useful votes on businesses, binned/categorized by Useful counts, with Count (y) representing number of business instances per bin/\n",
    "\n",
    ">> <img src='./Images/Useful.PNG' width='500px'>\n",
    "\n",
    "\n",
    ">> #### Strongest Correlations\n",
    "\n",
    ">> <img src='./Images/Regression1.PNG' width='500px'>"
   ],
   "cell_type": "markdown",
   "metadata": {}
  },
  {
   "source": [
    "## Classification Results\n",
    "\n",
    "> ### Classification Approach:\n",
    "\n",
    "> ### Techniques Used:\n",
    "\n",
    "> ### How classifiers were evaluated:\n",
    "\n",
    "> ### Classifier Performance:\n",
    "\n",
    "> ### How porformance, comparison results, and best classifiers were evaluated:\n"
   ],
   "cell_type": "markdown",
   "metadata": {}
  },
  {
   "source": [
    "## Conclusion\n",
    "\n",
    "> ### Short summary of dataset:\n",
    "\n",
    "> ### Classification approach:\n",
    "\n",
    "> ### Classifier performance:\n",
    "\n",
    "> ### Idea for improvement:"
   ],
   "cell_type": "markdown",
   "metadata": {}
  }
 ]
}