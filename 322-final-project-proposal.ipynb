{
 "cells": [
  {
   "cell_type": "markdown",
   "id": "embedded-counter",
   "metadata": {},
   "source": [
    "# CPSC-322 Final Project - Yelp Data Analysis\n",
    "### By: Karsen Hansen & Luke Mason\n",
    "---\n"
   ]
  },
  {
   "cell_type": "markdown",
   "id": "laughing-payroll",
   "metadata": {},
   "source": [
    "### <u>Dataset</u>: \n",
    "##### [Yelp Business Data](https://www.yelp.com/dataset)\n",
    "\n",
    "### <u>2. Data-Description</u>: \n",
    "##### Source: https://www.yelp.com/dataset\n",
    "##### Format: *JSON*\n",
    "##### Contents: *Our dataset includes three JSON files which contains specific business information aggregated directly from Yelp, including the following:*\n",
    "        * Business data (Name, address, review_count, stars (avg), amenities, etc.)\n",
    "        * Review (Top reviews)\n",
    "        * Tip (Tips)\n",
    "    \n",
    "##### Attributes & Predictions: *The following attributes are available from our Yelp dataset*\n",
    "\n",
    "        Business (obj).\n",
    "                (attributes)\n",
    "                1. ID\n",
    "                2. Name\n",
    "                3. Address\n",
    "                4. Latitude\n",
    "                5. Longitude\n",
    "                6. Stars (avg.)\n",
    "                7. Review count\n",
    "                8. Days / Hours of Operations\n",
    "                9. Other random attributes (parking, delivery, etc.)\n",
    "\n",
    "        Review (obj).\n",
    "                Business reviews (left by customers)\n",
    "\n",
    "        Tip (obj).\n",
    "                Business tips (left by customers)\n",
    "\n",
    "        \n",
    "\n",
    "##### *We will be exploring the following within our dataset:*\n",
    "\n",
    "        > Correlation between 'stars' (avg rating) and 'review' length\n",
    "        > Correlation between 'stars' (avg rating) and number of reviews\n",
    "        > Correlation between 'stars' (avg rating) and name length\n",
    "        > Correlation between 'stars' (avg rating) and location (latitude + longitude)\n",
    "        > Common attributes of highest rated businesses\n",
    "                1. Name length\n",
    "                2. location\n",
    "\n",
    "### <u>3. Implementation & Technical Merit</u>:\n",
    "##### Anticipated challenges in pre-processing and or classification:\n",
    "1. There are so many seemingly random attributes that many of them don't share the same combination of attributes in common. However, there are plenty of crucial attributes which are shared among almost every business such as Stars, Review count, and location.\n",
    "\n",
    "1. Our feature selection will be determined by choosing those attributes that seem most relevant to the feature we want to predict on. Specifically, if we are making predictions on stars, it doesn't make much sense to use the days / hours of operations or the other random attributes including but not limited to parking and delivery. With that in mind, we are planning to trim the data sets down to only include attributes 1-7 in the business object and the review object. We also have a very large amount of instances in these JSON objects, and plan to cut the dataset down to no fewer than 1,000 instances. This is for the sole purpose of having storage on the data set and being able to make classifications more quickly at a small sacrifice of accuracy.\n",
    "\n",
    "\n",
    "### <u>4. Potential impact of results</u>:\n",
    "##### Why are these results useful?:\n",
    "1. Users use Yelp as a means to choose what businesses they want to give their money to. Because of that, those same businesses want their Yelp reviews to be as high as possible. Therefore, finding correlation between attributes and a business's star ratings can give insight on business decisions to raise reviews. That is the exact purpose of data science, and is the reason we chose this set. Our goal is to use computer science and statistics to have information that allows businesses to make informed decisions to increase their success with customers.\n",
    "\n",
    "1. From the above explanation, businesses will be majorly affected by the findings of this classification. In addition, hopefully by finding what improves user experience, the general business experience everywhere gets better for customers. By creating a more competitive business environment, the growth rate of improved customer experience will increase, and society as a whole will grow and evolve. Finally, if customers for a specific business increase, that business's supplier will also be needed more, and the economy as a whole will improve as cash transfer will be increasing."
   ]
  }
 ],
 "metadata": {
  "kernelspec": {
   "display_name": "Python 3",
   "language": "python",
   "name": "python3"
  },
  "language_info": {
   "codemirror_mode": {
    "name": "ipython",
    "version": 3
   },
   "file_extension": ".py",
   "mimetype": "text/x-python",
   "name": "python",
   "nbconvert_exporter": "python",
   "pygments_lexer": "ipython3",
   "version": "3.8.5-final"
  }
 },
 "nbformat": 4,
 "nbformat_minor": 5
}