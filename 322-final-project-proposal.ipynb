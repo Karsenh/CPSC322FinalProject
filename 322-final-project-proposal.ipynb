{
 "cells": [
  {
   "cell_type": "markdown",
   "id": "embedded-counter",
   "metadata": {},
   "source": [
    "# CPSC-322 Final Project - Yelp Data Analysis\n",
    "### By: Karsen Hansen & Luke Mason\n",
    "---\n"
   ]
  },
  {
   "cell_type": "code",
   "execution_count": null,
   "metadata": {},
   "outputs": [],
   "source": []
  },
  {
   "cell_type": "markdown",
   "id": "laughing-payroll",
   "metadata": {},
   "source": [
    "### Dataset: \n",
    "##### [Yelp Business Data](https://www.yelp.com/dataset)\n",
    "\n",
    "\n",
    "### 2. Data-Description: \n",
    "##### Source: https://www.yelp.com/dataset\n",
    "##### Format: *JSON*\n",
    "##### Contents: *Our dataset includes three JSON files which contains specific business information aggregated directly from Yelp, including the following:*\n",
    "        * Business data (Name, address, review_count, stars (avg), amenities, etc.)\n",
    "        * Review (Top reviews)\n",
    "        * Tip (Tips)\n",
    "        * Users\n",
    "    \n",
    "##### Attributes & Predictions: *The following attributes are available from our Yelp dataset*\n",
    "\n",
    "        Business (obj).\n",
    "                (attributes)\n",
    "                1. ID\n",
    "                2. Name\n",
    "                3. Address\n",
    "                4. Latitude\n",
    "                5. Longitude\n",
    "                6. Stars (avg.)\n",
    "                7. Review count\n",
    "                8. Attributes (obj)\n",
    "                        i. GoodForGroups: (bool)\n",
    "                        ii. TakeOut: (bool)\n",
    "                        iii. AcceptsCreditCard: (bool)\n",
    "                        iv. WheelChairAccessible: (bool)\n",
    "                        v. AcceptsInsurance: (bool)\n",
    "                9. Categories (obj)\n",
    "                10. Hours of Operation (obj)\n",
    "                        i. day: time\n",
    "\n",
    "                11. Ambience (obj)\n",
    "                        i. Romantic: (bool)\n",
    "                        ii. Intimate: (bool)\n",
    "\n",
    "        Tip (obj). - Reviews/Tips left by customers on businesses (by _id)\n",
    "                (attributes)\n",
    "                1. user_id \n",
    "                2. business_id (to associate with other datasets)\n",
    "                1. text (review text)\n",
    "\n",
    "        \n",
    "\n",
    "##### *We will be exploring the following within our dataset:*\n",
    "\n",
    "        > Correlation between usefulness and fans / compliments (int no. of compliments received) / friends (array of friend user_ids)\n",
    "\n",
    "        Ultimately, our goal is to determine how good an entity (business) is at getting a 'useful' rating.\n",
    "\n",
    "\n",
    "### 3. Implementation & Technical Merit:\n",
    "##### Anticipated challenges in pre-processing and or classification:\n",
    "1. There are so many attributes, consequently, many of which aren't shared accross many instances. However, there are plenty of crucial attributes which we can actively select to test/predict on from the extensive list based on their flexibility and preceived impact. For example, if we're trying to predict the average rating, the bool for AcceptsInsurance is likely of no use. In-fact, it's likely of no use in general. Therefore we will be going through and finding the most useful 6-10 attributes and then refining our dataset down to those. The challenge will then be to sync our two datasets, including only the businesses in the second dataset that we've kept in the first one after pre-processing.\n",
    "\n",
    "1. To handle the 10GB dataset of instances and attributes, we will not only be manually sampling some of the businesses to identify the top 6-10 attributes in terms of precevied signifiance and cutting down our instances to the top 1000 which only include these selected attributes for relevancy. This pre-processing will make the data far more workable.\n",
    "\n",
    "\n",
    "\n",
    "### 4. Potential impact of results:\n",
    "##### Why are these results useful?:\n",
    "1. Users use Yelp as a means to choose what businesses they want to give their money to. Because of that, those same businesses want their Yelp reviews to be as high as possible. Therefore, finding correlation between attributes and a business's star ratings can give insight on business decisions to raise reviews. That is the exact purpose of data science, and is the reason we chose this set. Our goal is to use computer science and statistics to have information that allows businesses to make informed decisions to increase their success with customers.\n",
    "\n",
    "1. From the above explanation, businesses will be majorly affected by the findings of this classification. In addition, hopefully by finding what improves user experience, the general business experience everywhere gets better for customers. By creating a more competitive business environment, the growth rate of improved customer experience will increase, and society as a whole will grow and evolve. Finally, if customers for a specific business increase, that business's supplier will also be needed more, and the economy as a whole will improve as cash transfer will be increasing."
   ]
  }
 ],
 "metadata": {
  "kernelspec": {
   "display_name": "Python 3",
   "language": "python",
   "name": "python3"
  },
  "language_info": {
   "codemirror_mode": {
    "name": "ipython",
    "version": 3
   },
   "file_extension": ".py",
   "mimetype": "text/x-python",
   "name": "python",
   "nbconvert_exporter": "python",
   "pygments_lexer": "ipython3",
   "version": "3.8.5-final"
  }
 },
 "nbformat": 4,
 "nbformat_minor": 5
}