{
 "cells": [
  {
   "cell_type": "markdown",
   "id": "embedded-counter",
   "metadata": {},
   "source": [
    "# CPSC-322 Final Project - Yelp Data Analysis\n",
    "### By: Karsen Hansen & Luke Mason\n",
    "---\n"
   ]
  },
  {
   "cell_type": "markdown",
   "id": "laughing-payroll",
   "metadata": {},
   "source": [
    "### <u>Dataset</u>: \n",
    "##### [Yelp Business Data](https://www.yelp.com/dataset)\n",
    "\n",
    "### <u>2. Data-Description</u>: \n",
    "##### Source: https://www.yelp.com/dataset\n",
    "##### Format: *JSON*\n",
    "##### Contents: *Our dataset includes three JSON files which contains specific business information aggregated directly from Yelp, including the following:*\n",
    "        * Business data (Name, address, review_count, stars (avg), amenities, etc.)\n",
    "        * Review (Top reviews)\n",
    "        * Tip (Tips)\n",
    "    \n",
    "##### Attributes & Predictions: *The following attributes are available from our Yelp dataset*\n",
    "\n",
    "        Business (obj).\n",
    "                (attributes)\n",
    "                1. ID\n",
    "                2. Name\n",
    "                3. Address\n",
    "                4. Latitude\n",
    "                5. Longitude\n",
    "                6. Stars (avg.)\n",
    "                7. Review count\n",
    "                8. Days / Hours of Operations\n",
    "                9. Other random attributes (parking, delivery, etc.)\n",
    "\n",
    "        Review (obj).\n",
    "                Business reviews (left by customers)\n",
    "\n",
    "        Tip (obj).\n",
    "                Business tips (left by customers)\n",
    "\n",
    "        \n",
    "\n",
    "##### *We will be exploring the following within our dataset:*\n",
    "\n",
    "        > Correlation between 'stars' (avg rating) and 'review' length\n",
    "        > Correlation between 'stars' (avg rating) and 'tip' length\n",
    "        > Correlation between 'stars' (avg rating) and number of reviews\n",
    "        > Correlation between 'stars' (avg rating) and name length\n",
    "        > Common attributes of highest rated businesses\n",
    "                1. Name length\n",
    "                2. location\n",
    "\n",
    "### <u>3. Implementation & Technical Merit</u>:\n",
    "##### Anticipated challenges in pre-processing and or classification:\n",
    "1. There are so many seemingly random attributes that many of them don't share the same combination of attributes in common. However, there are plenty of crucial attributes which are shared among almost every business such as Stars, Review count, and location.\n",
    "\n",
    "1. Our feature selection will likely include analyzing the data for which attributes are not only most relevant in terms of our predictions, but also those which occur most frequently, or at the very least over 1000 instances to maximize our accuracy.\n",
    "\n",
    "\n",
    "### <u>4. Potential impact of results</u>:\n",
    "1. first thing\n",
    "1. second thing\n",
    "1. third thing"
   ]
  }
 ],
 "metadata": {
  "kernelspec": {
   "display_name": "Python 3",
   "language": "python",
   "name": "python3"
  },
  "language_info": {
   "codemirror_mode": {
    "name": "ipython",
    "version": 3
   },
   "file_extension": ".py",
   "mimetype": "text/x-python",
   "name": "python",
   "nbconvert_exporter": "python",
   "pygments_lexer": "ipython3",
   "version": "3.7.8"
  }
 },
 "nbformat": 4,
 "nbformat_minor": 5
}