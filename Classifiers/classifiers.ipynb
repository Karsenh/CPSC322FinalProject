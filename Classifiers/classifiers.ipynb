{
 "cells": [
  {
   "cell_type": "code",
   "execution_count": 78,
   "metadata": {},
   "outputs": [],
   "source": [
    "# some useful mysklearn package import statements and reloads\n",
    "import importlib\n",
    "\n",
    "import mysklearn.myutils\n",
    "importlib.reload(mysklearn.myutils)\n",
    "import mysklearn.myutils as myutils\n",
    "\n",
    "# uncomment once you paste your mypytable.py into mysklearn package\n",
    "import mysklearn.mypytable\n",
    "importlib.reload(mysklearn.mypytable)\n",
    "from mysklearn.mypytable import MyPyTable \n",
    "\n",
    "import mysklearn.myclassifiers\n",
    "importlib.reload(mysklearn.myclassifiers)\n",
    "from mysklearn.myclassifiers import MyNaiveBayesClassifier, MyDecisionTreeClassifier, MyRandomForestClassifier\n",
    "\n",
    "import mysklearn.myevaluation\n",
    "importlib.reload(mysklearn.myevaluation)\n",
    "import mysklearn.myevaluation as myevaluation\n",
    "\n",
    "import os"
   ]
  },
  {
   "cell_type": "markdown",
   "metadata": {},
   "source": [
    "## Load and clean the data"
   ]
  },
  {
   "cell_type": "code",
   "execution_count": 79,
   "metadata": {
    "tags": []
   },
   "outputs": [
    {
     "output_type": "stream",
     "name": "stdout",
     "text": [
      "['Fans', 'Compliment Plain', 'Friends', 'Useful']\n[12.0, 30.0, 37.0, 179.0]\n"
     ]
    }
   ],
   "source": [
    "mytable = MyPyTable()\n",
    "fName = os.path.join(\"input_data\", \"trimmed_data.csv\")\n",
    "dataset = mytable.load_from_file(fName)\n",
    "dataset.remove_rows_with_missing_values()\n",
    "rows_to_delete = ['Review Count', 'Attributes', 'Review Length']\n",
    "myutils.remove_rows_from_data(rows_to_delete, dataset)\n",
    "myutils.get_friend_count(2, dataset)\n",
    "print(dataset.column_names)\n",
    "print(dataset.data[0])"
   ]
  },
  {
   "cell_type": "markdown",
   "metadata": {},
   "source": [
    "## Stratified k-fold Accuracy Check"
   ]
  },
  {
   "cell_type": "code",
   "execution_count": 84,
   "metadata": {
    "tags": []
   },
   "outputs": [
    {
     "output_type": "stream",
     "name": "stdout",
     "text": [
      "Naive Bayes: accuracy = 0.8597194388777555 error = 0.1402805611222445\n",
      "Decision Tree: accuracy = 0.1683366733466934 error = 0.8316633266533067\n",
      "Random Forest: accuracy = 0.14963259853039412 error = 0.8503674014696059\n"
     ]
    }
   ],
   "source": [
    "import copy\n",
    "#==================================\n",
    "#      Get stratified training    =\n",
    "#      and testing sets           =\n",
    "#==================================\n",
    "k = 10\n",
    "X, y = myutils.split_x_y_train(dataset.data)\n",
    "x_train, x_test, y_train, y_test = myevaluation.train_test_split(X, y, shuffle=True)\n",
    "\n",
    "# Get the training and testing folds\n",
    "train_folds, test_folds = myevaluation.stratified_kfold_cross_validation(X, y, k)\n",
    "\n",
    "# Get the traininga and testing sets from the folds\n",
    "x_train, y_train, x_test, y_test = myutils.get_values_from_folds(X, y, train_folds, test_folds)\n",
    "\n",
    "\n",
    "#==================================\n",
    "#      Naive Bayes Classifier     =\n",
    "#==================================\n",
    "myNB = MyNaiveBayesClassifier()\n",
    "myNB.fit(x_train, y_train)\n",
    "\n",
    "# Compare predicted with actual\n",
    "y_predict_nb = myNB.predict(x_test)\n",
    "count = 0\n",
    "for i in range(len(y_predict_nb)):\n",
    "    binned_predict = myutils.get_useful_bin(y_predict_nb[i])\n",
    "    binned_test = myutils.get_useful_bin(y_test[i])\n",
    "    if (binned_predict == binned_test):\n",
    "        count = count + 1;\n",
    "\n",
    "# Calculate accuracy and error\n",
    "accuracy = count / len(y_predict_nb)\n",
    "error = (len(y_predict_nb) - count) / len(y_predict_nb)\n",
    "\n",
    "print(\"Naive Bayes: accuracy =\", accuracy, \"error =\", error)\n",
    "\n",
    "#==================================\n",
    "#     Decision Tree Classifier    =\n",
    "#==================================\n",
    "myDT = MyDecisionTreeClassifier()\n",
    "myDT_x_train = copy.deepcopy(x_train)\n",
    "myDT_y_train = copy.deepcopy(y_train)\n",
    "myDT.fit(myDT_x_train, myDT_y_train)\n",
    "\n",
    "y_predict_dt = myDT.predict(x_test)\n",
    "count = 0\n",
    "for i in range(len(y_predict_dt)):\n",
    "    binned_predict = myutils.get_useful_bin(y_predict_dt[i])\n",
    "    binned_test = myutils.get_useful_bin(y_test[i])\n",
    "    if (binned_predict == binned_test):\n",
    "        count = count + 1;\n",
    "\n",
    "accuracy = count / len(y_predict_dt)\n",
    "error = (len(y_predict_dt) - count) / len(y_predict_dt)\n",
    "\n",
    "print(\"Decision Tree: accuracy =\", accuracy, \"error =\", error)\n",
    "\n",
    "#==================================\n",
    "#     Random Forest Classifier    =\n",
    "#==================================\n",
    "remainder = []\n",
    "for i in range(len(x_train)):\n",
    "    row = x_train[i]\n",
    "    row.append(y_train[i])\n",
    "    remainder.append(row)\n",
    "\n",
    "myRF = MyRandomForestClassifier()\n",
    "myRF.fit(remainder, 10, 100)\n",
    "\n",
    "y_predict_rf = myRF.predict(x_test)\n",
    "count = 0\n",
    "for i in range(len(y_predict_rf)):\n",
    "    binned_predict = myutils.get_useful_bin(y_predict_rf[i])\n",
    "    binned_test = myutils.get_useful_bin(y_test[i])\n",
    "    if (binned_predict == binned_test):\n",
    "        count = count + 1;\n",
    "\n",
    "accuracy = count / len(y_predict_rf)\n",
    "error = (len(y_predict_rf) - count) / len(y_predict_rf)\n",
    "print(\"Random Forest: accuracy =\", accuracy, \"error =\", error)"
   ]
  },
  {
   "cell_type": "markdown",
   "metadata": {},
   "source": [
    "## Confusion Matrices"
   ]
  },
  {
   "cell_type": "code",
   "execution_count": 7,
   "metadata": {},
   "outputs": [
    {
     "name": "stdout",
     "output_type": "stream",
     "text": [
      "\n",
      "Naive Bayes\n",
      "========  ===  ===  ===  ===  ===  ===  ===  ===  ===  ====  =======  =================\n",
      "  Useful    1    2    3    4    5    6    7    8    9    10    Total    Recognition (%)\n",
      "========  ===  ===  ===  ===  ===  ===  ===  ===  ===  ====  =======  =================\n",
      "       1  167   21    9    4    1    0    0    0    0     0      202              82.67\n",
      "       2   63  130   14    5    3    0    0    0    0     0      215              60.47\n",
      "       3   23   18  120    8    4    0    0    0    0     0      173              69.36\n",
      "       4    8    7   12  108    3    0    0    0    0     0      138              78.26\n",
      "       5    0    2    3    2  251    0    0    0    0     0      258              97.29\n",
      "       6    0    0    0    0    0  183    0    0    0     0      183             100\n",
      "       7    0    0    0    0    0    0   81    0    0     0       81             100\n",
      "       8    0    0    0    0    0    0    0   64    0     0       64             100\n",
      "       9    0    0    0    0    0    0    0    0   49     0       49             100\n",
      "      10    0    0    0    0    0    0    0    0    0   135      135             100\n",
      "========  ===  ===  ===  ===  ===  ===  ===  ===  ===  ====  =======  =================\n"
     ]
    }
   ],
   "source": [
    "# Get the x values to perform the matrix over\n",
    "x = []\n",
    "for i in range(10):\n",
    "    x.append(i + 1)\n",
    "\n",
    "actual = []\n",
    "predicted = []\n",
    "for i in range(len(y_test)):\n",
    "    actual.append(myutils.get_useful_bin(y_test[i]))\n",
    "    predicted.append(myutils.get_useful_bin(y_predict_nb[i]))\n",
    "\n",
    "# Get the matrix from stratified\n",
    "matrix = myevaluation.confusion_matrix(actual, predicted, x)\n",
    "\n",
    "# Make the table header and calculate the statistics\n",
    "table_header = ['Useful', 1,2,3,4,5,6,7,8,9,10, 'Total', 'Recognition (%)']\n",
    "complete_matrix = myutils.calc_matrix_stats(matrix, False)\n",
    "\n",
    "print()\n",
    "print('Naive Bayes')\n",
    "myutils.print_tabulate(complete_matrix, table_header)"
   ]
  },
  {
   "cell_type": "code",
   "execution_count": 8,
   "metadata": {},
   "outputs": [
    {
     "name": "stdout",
     "output_type": "stream",
     "text": [
      "\n",
      "Naive Bayes\n",
      "========  ===  ===  ===  ===  ===  ===  ===  ===  ===  ====  =======  =================\n",
      "  Useful    1    2    3    4    5    6    7    8    9    10    Total    Recognition (%)\n",
      "========  ===  ===  ===  ===  ===  ===  ===  ===  ===  ====  =======  =================\n",
      "       1  165   23    3    3    4    3    0    1    0     0      202              81.68\n",
      "       2  150   51    1    3    0    7    2    1    0     0      215              23.72\n",
      "       3  131   35    5    2    0    0    0    0    0     0      173               2.89\n",
      "       4  107   23    3    5    0    0    0    0    0     0      138               3.62\n",
      "       5  134   94   15   13    1    1    0    0    0     0      258               0.39\n",
      "       6   24   67   37   39    9    7    0    0    0     0      183               3.83\n",
      "       7   17   27    6   17   10    4    0    0    0     0       81               0\n",
      "       8   16   12    9   12   10    5    0    0    0     0       64               0\n",
      "       9   16    5    1    7   17    2    1    0    0     0       49               0\n",
      "      10   12   21   12    5   30   23    4    2    3    23      135              17.04\n",
      "========  ===  ===  ===  ===  ===  ===  ===  ===  ===  ====  =======  =================\n"
     ]
    }
   ],
   "source": [
    "# Get the x values to perform the matrix over\n",
    "x = []\n",
    "for i in range(10):\n",
    "    x.append(i + 1)\n",
    "\n",
    "actual = []\n",
    "predicted = []\n",
    "for i in range(len(y_test)):\n",
    "    actual.append(myutils.get_useful_bin(y_test[i]))\n",
    "    predicted.append(myutils.get_useful_bin(y_predict_dt[i]))\n",
    "\n",
    "# Get the matrix from stratified\n",
    "matrix = myevaluation.confusion_matrix(actual, predicted, x)\n",
    "\n",
    "# Make the table header and calculate the statistics\n",
    "table_header = ['Useful', 1,2,3,4,5,6,7,8,9,10, 'Total', 'Recognition (%)']\n",
    "complete_matrix = myutils.calc_matrix_stats(matrix, False)\n",
    "\n",
    "print()\n",
    "print('Decision Tree')\n",
    "myutils.print_tabulate(complete_matrix, table_header)"
   ]
  },
  {
   "cell_type": "code",
   "execution_count": 85,
   "metadata": {},
   "outputs": [
    {
     "output_type": "stream",
     "name": "stdout",
     "text": [
      "\nRandom Forest\n========  ===  ===  ===  ===  ===  ===  ===  ===  ===  ====  =======  =================\n  Useful    1    2    3    4    5    6    7    8    9    10    Total    Recognition (%)\n========  ===  ===  ===  ===  ===  ===  ===  ===  ===  ====  =======  =================\n       1  202    0    0    0    0    0    0    0    0     0      202             100\n       2  215    0    0    0    0    0    0    0    0     0      215               0\n       3  173    0    0    0    0    0    0    0    0     0      173               0\n       4  138    0    0    0    0    0    0    0    0     0      138               0\n       5  224   34    0    0    0    0    0    0    0     0      258               0\n       6   62  110   11    0    0    0    0    0    0     0      183               0\n       7    2   61   18    0    0    0    0    0    0     0       81               0\n       8    0   24   34    5    1    0    0    0    0     0       64               0\n       9    0    0   30   17    1    1    0    0    0     0       49               0\n      10    0    1    5   47   51    7    0    1    0    22      134              16.42\n========  ===  ===  ===  ===  ===  ===  ===  ===  ===  ====  =======  =================\n"
     ]
    }
   ],
   "source": [
    "# Get the x values to perform the matrix over\n",
    "x = []\n",
    "for i in range(10):\n",
    "    x.append(i + 1)\n",
    "\n",
    "actual = []\n",
    "predicted = []\n",
    "for i in range(len(y_test)):\n",
    "    actual.append(myutils.get_useful_bin(y_test[i]))\n",
    "    predicted.append(myutils.get_useful_bin(y_predict_rf[i]))\n",
    "\n",
    "# Get the matrix from stratified\n",
    "matrix = myevaluation.confusion_matrix(actual, predicted, x)\n",
    "\n",
    "# Make the table header and calculate the statistics\n",
    "table_header = ['Useful', 1,2,3,4,5,6,7,8,9,10, 'Total', 'Recognition (%)']\n",
    "complete_matrix = myutils.calc_matrix_stats(matrix, False)\n",
    "\n",
    "print()\n",
    "print('Random Forest')\n",
    "myutils.print_tabulate(complete_matrix, table_header)"
   ]
  },
  {
   "cell_type": "code",
   "execution_count": null,
   "metadata": {},
   "outputs": [],
   "source": []
  }
 ],
 "metadata": {
  "kernelspec": {
   "display_name": "Python 3",
   "language": "python",
   "name": "python3"
  },
  "language_info": {
   "codemirror_mode": {
    "name": "ipython",
    "version": 3
   },
   "file_extension": ".py",
   "mimetype": "text/x-python",
   "name": "python",
   "nbconvert_exporter": "python",
   "pygments_lexer": "ipython3",
   "version": "3.8.5-final"
  }
 },
 "nbformat": 4,
 "nbformat_minor": 4
}