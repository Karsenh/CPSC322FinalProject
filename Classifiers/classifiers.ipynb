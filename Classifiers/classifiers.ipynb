{
 "metadata": {
  "language_info": {
   "codemirror_mode": {
    "name": "ipython",
    "version": 3
   },
   "file_extension": ".py",
   "mimetype": "text/x-python",
   "name": "python",
   "nbconvert_exporter": "python",
   "pygments_lexer": "ipython3",
   "version": 3
  },
  "orig_nbformat": 2
 },
 "nbformat": 4,
 "nbformat_minor": 2,
 "cells": [
  {
   "cell_type": "code",
   "execution_count": null,
   "metadata": {},
   "outputs": [],
   "source": [
    "# some useful mysklearn package import statements and reloads\n",
    "import importlib\n",
    "\n",
    "import mysklearn.myutils\n",
    "importlib.reload(mysklearn.myutils)\n",
    "import mysklearn.myutils as myutils\n",
    "\n",
    "# uncomment once you paste your mypytable.py into mysklearn package\n",
    "import mysklearn.mypytable\n",
    "importlib.reload(mysklearn.mypytable)\n",
    "from mysklearn.mypytable import MyPyTable \n",
    "\n",
    "import mysklearn.myclassifiers\n",
    "importlib.reload(mysklearn.myclassifiers)\n",
    "from mysklearn.myclassifiers import MyNaiveBayesClassifier, MyDecisionTreeClassifier\n",
    "\n",
    "import mysklearn.myevaluation\n",
    "importlib.reload(mysklearn.myevaluation)\n",
    "import mysklearn.myevaluation as myevaluation"
   ]
  },
  {
   "source": [
    "## Load and clean the data"
   ],
   "cell_type": "markdown",
   "metadata": {}
  },
  {
   "cell_type": "code",
   "execution_count": null,
   "metadata": {},
   "outputs": [],
   "source": [
    "mytable = MyPyTable()\n",
    "dataset = mytable.load_from_json_file('yelp_academic_dataset_business.json', 30000)\n",
    "dataset.remove_rows_with_missing_values()"
   ]
  },
  {
   "source": [
    "## Stratified k-fold Accuracy Check"
   ],
   "cell_type": "markdown",
   "metadata": {}
  },
  {
   "cell_type": "code",
   "execution_count": null,
   "metadata": {},
   "outputs": [],
   "source": [
    "#==================================\n",
    "#      Get stratified training    =\n",
    "#      and testing sets           =\n",
    "#==================================\n",
    "k = 10\n",
    "X, y = myutils.split_x_y_train(dataset.data)\n",
    "x_train, x_test, y_train, y_test = myevaluation.train_test_split(X, y, shuffle=True)\n",
    "\n",
    "# Get the training and testing folds\n",
    "train_folds, test_folds = myevaluation.stratified_kfold_cross_validation(X, y, k)\n",
    "\n",
    "# Get the traininga and testing sets from the folds\n",
    "x_train, y_train, x_test, y_test = myutils.get_values_from_folds(X, y, train_folds, test_folds)\n",
    "\n",
    "\n",
    "#==================================\n",
    "#      Naive Bayes Classifier     =\n",
    "#==================================\n",
    "myNB = MyNaiveBayesClassifier()\n",
    "myNB.fit(x_train, y_train)\n",
    "\n",
    "# Compare predicted with actual\n",
    "y_predict = myNB.predict(x_test)\n",
    "count = 0\n",
    "for i in range(len(y_predict)):\n",
    "    if (y_predict[i] == y_test[i]):\n",
    "        count = count + 1;\n",
    "\n",
    "# Calculate accuracy and error\n",
    "accuracy = count / len(y_predict)\n",
    "error = (len(y_predict) - count) / len(y_predict)\n",
    "\n",
    "print(\"Naive Bayes: accuracy =\", accuracy, \"error =\", error)\n",
    "\n",
    "#==================================\n",
    "#     Decision Tree Classifier    =\n",
    "#==================================\n",
    "myDT = MyDecisionTreeClassifier()\n",
    "myDT.fit(x_train, y_train)\n",
    "\n",
    "# Compare predicted with actual\n",
    "y_predict = myDT.predict(x_test)\n",
    "count = 0\n",
    "for i in range(len(y_predict)):\n",
    "    if (y_predict[i] == y_test[i]):\n",
    "        count = count + 1;\n",
    "\n",
    "# Calculate accuracy and error\n",
    "accuracy = count / len(y_predict)\n",
    "error = (len(y_predict) - count) / len(y_predict)\n",
    "\n",
    "print(\"Decision Tree: accuracy =\", accuracy, \"error =\", error)\n",
    "\n",
    "#==================================\n",
    "#     Random Forest Classifier    =\n",
    "#==================================\n",
    "print(\"Random Forest: accuracy =\", \"tbd\", \"error =\", \"tbd\")"
   ]
  },
  {
   "source": [
    "## Confusion Matrices"
   ],
   "cell_type": "markdown",
   "metadata": {}
  },
  {
   "cell_type": "code",
   "execution_count": null,
   "metadata": {},
   "outputs": [],
   "source": [
    "# Get the x values to perform the matrix over\n",
    "x = ['yes', 'no']\n",
    "\n",
    "actual = []\n",
    "nb_predicted = []\n",
    "for i in range(len(y_test)):\n",
    "    actual.append(y_test[i])\n",
    "    nb_predicted.append(y_predict[i])\n",
    "\n",
    "# Get the matrix from stratified\n",
    "nb_matrix = myevaluation.confusion_matrix(actual, nb_predicted, x)\n",
    "\n",
    "# Make the table header and calculate the statistics\n",
    "table_header = ['Survived', \"Yes\", \"No\", 'Total', 'Recognition (%)']\n",
    "complete_matrix = myutils.calc_matrix_stats(nb_matrix, True)\n",
    "\n",
    "print()\n",
    "print('Naive Bayes Result')\n",
    "myutils.print_tabulate(complete_matrix, table_header)"
   ]
  },
  {
   "cell_type": "code",
   "execution_count": null,
   "metadata": {},
   "outputs": [],
   "source": [
    "# Get the x values to perform the matrix over\n",
    "x = ['yes', 'no']\n",
    "\n",
    "actual = []\n",
    "dt_predicted = []\n",
    "for i in range(len(y_test)):\n",
    "    actual.append(y_test[i])\n",
    "    dt_predicted.append(y_predict[i])\n",
    "\n",
    "# Get the matrix from stratified\n",
    "dt_matrix = myevaluation.confusion_matrix(actual, dt_predicted, x)\n",
    "\n",
    "# Make the table header and calculate the statistics\n",
    "table_header = ['Survived', \"Yes\", \"No\", 'Total', 'Recognition (%)']\n",
    "complete_matrix = myutils.calc_matrix_stats(dt_matrix, True)\n",
    "\n",
    "print()\n",
    "print('Decision Tree Result')\n",
    "myutils.print_tabulate(complete_matrix, table_header)"
   ]
  }
 ]
}